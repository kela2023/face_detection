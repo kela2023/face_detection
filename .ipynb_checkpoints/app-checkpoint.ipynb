{
 "cells": [
  {
   "cell_type": "code",
   "execution_count": null,
   "id": "25bb9aff",
   "metadata": {},
   "outputs": [
    {
     "name": "stdout",
     "output_type": "stream",
     "text": [
      "WARNING:tensorflow:No training configuration found in the save file, so the model was *not* compiled. Compile it manually.\n"
     ]
    }
   ],
   "source": [
    "from flask import Flask, render_template, Response\n",
    "from camera import Video\n",
    "\n",
    "app=Flask(__name__)\n",
    "@app.route('/')\n",
    "def index():\n",
    "    return render_template('AIrecognition.html')\n",
    "def gen(camera):\n",
    "    while True:\n",
    "        yield(b'--frame\\r\\n'\n",
    "              b'Content-Type: image/jpeg\\r\\n\\r\\n'+ frame +\n",
    "              b'\\r\\n\\r\\n')\n",
    "@app.route('/video')\n",
    "\n",
    "def video():\n",
    "    return Response(gen(Video()))\n",
    "mimetype='multipart/x-mixed-replace; boundary-frame'\n",
    "app.run(debug=True)"
   ]
  }
 ],
 "metadata": {
  "kernelspec": {
   "display_name": "Python (TensorFlow)",
   "language": "python",
   "name": "tensorflow"
  },
  "language_info": {
   "codemirror_mode": {
    "name": "ipython",
    "version": 3
   },
   "file_extension": ".py",
   "mimetype": "text/x-python",
   "name": "python",
   "nbconvert_exporter": "python",
   "pygments_lexer": "ipython3",
   "version": "3.9.13"
  }
 },
 "nbformat": 4,
 "nbformat_minor": 5
}
